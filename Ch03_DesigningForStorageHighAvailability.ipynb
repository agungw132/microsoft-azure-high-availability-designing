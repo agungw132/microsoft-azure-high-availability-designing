{
 "cells": [
  {
   "cell_type": "markdown",
   "metadata": {},
   "source": [
    "# Introduction"
   ]
  },
  {
   "cell_type": "markdown",
   "metadata": {},
   "source": [
    "![](https://storage.googleapis.com/agungwahyudi-public-files/azure_high_availability-3-000002.png)"
   ]
  },
  {
   "cell_type": "markdown",
   "metadata": {},
   "source": [
    "In this module, we will cover designing for storage high availability. We'll start by understanding how Azure Storage replication works. We'll see the different replication options available to help you design your replication topology to meet your business requirements. We'll cover the different types of storage accounts and learn about their different features and pricing model. We'll also learn how to create a storage account, depending on your needs. We'll cover virtual machine managed disks and see how to manage them through the Azure portal."
   ]
  },
  {
   "cell_type": "markdown",
   "metadata": {},
   "source": [
    "![](https://storage.googleapis.com/agungwahyudi-public-files/azure_high_availability-3-000003.png)"
   ]
  },
  {
   "cell_type": "markdown",
   "metadata": {},
   "source": [
    "There are different types of managed disks available, so we'll cover the differences to help in taking a decision when deploying your applications. We'll see how to protect managed disks by the use of snapshots and how to configure backups for your virtual machines. We will also get an overview of the Azure Site Recovery service, which provides to your organization a very good strategy in case of disaster recovery. We will complete this module with storage high availability for SQL databases. Almost every organization depends on applications often connected to such a database engine. We'll get our hands on in Azure and create a new SQL database. We will then be using geo‑replication for a database to provide high availability. Let's jump to the next clip on Azure Storage replication"
   ]
  },
  {
   "cell_type": "markdown",
   "metadata": {},
   "source": [
    "# Understanding Azure Storage Replication"
   ]
  },
  {
   "cell_type": "markdown",
   "metadata": {},
   "source": [
    "![](https://storage.googleapis.com/agungwahyudi-public-files/azure_high_availability-3-000005.png)"
   ]
  },
  {
   "cell_type": "markdown",
   "metadata": {},
   "source": [
    "When working within Azure, almost every component relies on storage. Whether it is an Azure SQL Database or a virtual machine scale set, the data is contained inside an Azure Storage account. Different data objects can be contained inside a storage account. It could be blobs, queues, files, tables, or disks."
   ]
  },
  {
   "cell_type": "markdown",
   "metadata": {},
   "source": [
    "![](https://storage.googleapis.com/agungwahyudi-public-files/azure_high_availability-3-000006.png)"
   ]
  },
  {
   "cell_type": "markdown",
   "metadata": {},
   "source": [
    "There are different types of storage accounts with different features and pricing models. You should take a close look at the differences for each type before taking a final decision for applications. Here's a list of the storage accounts you can choose from, general‑purpose v1 and v2 accounts. V1 is a legacy account, and, whenever possible, try using general‑purpose v2 accounts instead, as it is recommended for almost all scenarios. Both accounts are used for different data objects such as blobs, files, queues, and tables."
   ]
  },
  {
   "cell_type": "markdown",
   "metadata": {},
   "source": [
    "![](https://storage.googleapis.com/agungwahyudi-public-files/azure_high_availability-3-000007.png)"
   ]
  },
  {
   "cell_type": "markdown",
   "metadata": {},
   "source": [
    "File storage accounts are used for files‑only storage. It is recommended when running applications with high performance needs. Blob storage accounts are used for blob‑only objects. Again, try using general‑purpose v2 account instead. Depending on the storage account type selected, you may choose between two performance options, standard and premium."
   ]
  },
  {
   "cell_type": "markdown",
   "metadata": {},
   "source": [
    "![](https://storage.googleapis.com/agungwahyudi-public-files/azure_high_availability-3-000008.png)"
   ]
  },
  {
   "cell_type": "markdown",
   "metadata": {},
   "source": [
    "Standard storage accounts are the lowest in cost and are commonly used for data that is infrequently accessed, for example, an application used for archiving purposes. Premium storage accounts are running on solid‑state drives and offer best performance for I/O‑intensive applications. The first scenario that comes to mind will be when working within Azure SQL Database. Premium storage accounts are also more expensive than standard storage accounts, and it is fully understandable when comparing SLAs and performance. Now that we got an overview of storage accounts, let's see how replication works to provide high availability for your data."
   ]
  },
  {
   "cell_type": "markdown",
   "metadata": {},
   "source": [
    "![](https://storage.googleapis.com/agungwahyudi-public-files/azure_high_availability-3-000009.png)"
   ]
  },
  {
   "cell_type": "markdown",
   "metadata": {},
   "source": [
    "Azure Storage always keeps multiple copies of your data so it can be protected from any planned or unplanned scenarios. For example, a hardware failure can occur, affecting a set of your data objects. Microsoft Azure Storage provides for data redundancy with different service‑level agreements, depending on your replication design."
   ]
  },
  {
   "cell_type": "markdown",
   "metadata": {},
   "source": [
    "![](https://storage.googleapis.com/agungwahyudi-public-files/azure_high_availability-3-000010.png)"
   ]
  },
  {
   "cell_type": "markdown",
   "metadata": {},
   "source": [
    "There is quite a few options available when setting up replication, starting with locally redundant storage, or LRS. Locally redundant storage provides redundancy within a single physical location inside the primary region by keeping three copies of your data. This is a less expensive option, but it is not recommended for all deployments. If this physical location was to be affected by any hardware failure or brought offline by a natural disaster, you would lose access to your data until the site is back online. There is also no guarantee your data will be recoverable once disaster recovery is completed, so this is really not for high‑availability applications or anything mission critical for your organization."
   ]
  },
  {
   "cell_type": "markdown",
   "metadata": {},
   "source": [
    "![](https://storage.googleapis.com/agungwahyudi-public-files/azure_high_availability-3-000011.png)"
   ]
  },
  {
   "cell_type": "markdown",
   "metadata": {},
   "source": [
    "To mitigate this risk of having a single physical location being your single point of failure, another replication option is made available to you, zone‑redundant storage, or ZRS. Your data will be replicated across three Azure availability zones within a primary region. This will ensure your data is residing in different physical locations. If a zone is no longer available, Azure will update any DNS entries to make your data available with both write and read operations to another availability zone."
   ]
  },
  {
   "cell_type": "markdown",
   "metadata": {},
   "source": [
    "![](https://storage.googleapis.com/agungwahyudi-public-files/azure_high_availability-3-000012.png)"
   ]
  },
  {
   "cell_type": "markdown",
   "metadata": {},
   "source": [
    "But what happens if you need to provide high availability to your applications in the event an entire region suffers an outage? Well, you could plan for redundancy in a secondary region. You can choose out of the two following options, geo‑redundant storage, GRS, or geo‑zone‑redundant storage, GZRS.\n",
    "\n",
    "Geo‑redundant storage will use locally redundant storage to synchronously copy your data three times inside a single physical location within the primary region. Then your data will be asynchronously copied to another single physical location within the secondary region."
   ]
  },
  {
   "cell_type": "markdown",
   "metadata": {},
   "source": [
    "![](https://storage.googleapis.com/agungwahyudi-public-files/azure_high_availability-3-000013.png)"
   ]
  },
  {
   "cell_type": "markdown",
   "metadata": {},
   "source": [
    "Geo‑zone‑redundant storage will use zone‑redundant storage to synchronously copy your data across three availability zones within the primary region. Then your data will be asynchronously copied to another single physical location within the secondary region."
   ]
  },
  {
   "cell_type": "markdown",
   "metadata": {},
   "source": [
    "![](https://storage.googleapis.com/agungwahyudi-public-files/azure_high_availability-3-000014.png)"
   ]
  },
  {
   "cell_type": "markdown",
   "metadata": {},
   "source": [
    "Remember that when working with asynchronous replication, a failure in the primary region can cause loss of data. The recovery point objective, or the RPO, is typically set to be under 15 minutes between the most recent write operation to the data in the primary region and the last write operation to the secondary region. Options covered so far will replicate the data to another location, but this data will remain unavailable unless either Microsoft or you as a customer triggers a failover from the primary to the secondary region. There might be a situation where you will want to enable read access to the data in the secondary region without initiating a failover. You can do so with the use of read‑access geo‑redundant storage or read‑access geo‑zone‑redundant storage. These two options provide a way to gain read access at all times to your data within your secondary zone. This can be helpful if you're planning on testing failover procedures to make sure your applications are able to read the data copied to the secondary zone in the event of such a failover. Now let's jump to the demo and see how we can configure replication for a storage account."
   ]
  },
  {
   "cell_type": "markdown",
   "metadata": {
    "vscode": {
     "languageId": "plaintext"
    }
   },
   "source": [
    "# Creating a Storage Account in Azure"
   ]
  },
  {
   "cell_type": "markdown",
   "metadata": {
    "vscode": {
     "languageId": "plaintext"
    }
   },
   "source": [
    "![](https://storage.googleapis.com/agungwahyudi-public-files/azure_high_availability-add-000005.png)"
   ]
  },
  {
   "cell_type": "markdown",
   "metadata": {
    "vscode": {
     "languageId": "plaintext"
    }
   },
   "source": [
    "This next clip will demonstrate how to create a storage account and how to configure replication for our data in two different locations. From the Azure portal, navigate to the Storage accounts section. Once there, click on Add. Select your subscription and either choose a resource group or create a new one. In my case, I will create a new resource group called VMStorage‑RG. I need to provide a unique name for my storage account. Let's see if pscourse1 is available. I get the green checkmark so I'm good using this name. I'll keep the defaults for the location and performance. For the account kind, simply make sure StorageV2 is selected from the list. Now the interesting part, replication options. In this case, I will select Read‑access‑geo‑redundant‑storage. Once done, click on Review and Create. Correct anything that would prevent validation of this new storage account and click on Create again. After a couple seconds, the deployment should be completed."
   ]
  },
  {
   "cell_type": "markdown",
   "metadata": {
    "vscode": {
     "languageId": "plaintext"
    }
   },
   "source": [
    "![](https://storage.googleapis.com/agungwahyudi-public-files/azure_high_availability-add-000006.png)"
   ]
  },
  {
   "cell_type": "markdown",
   "metadata": {
    "vscode": {
     "languageId": "plaintext"
    }
   },
   "source": [
    "Click on Go to Resource to access our newly created storage account. If we take a quick look at the details within the overview page, we can see the status of the storage account is available and both the primary and the secondary results. Another important piece of information here is the locations, which in my case are Central US and East US 2."
   ]
  },
  {
   "cell_type": "markdown",
   "metadata": {
    "vscode": {
     "languageId": "plaintext"
    }
   },
   "source": [
    "![](https://storage.googleapis.com/agungwahyudi-public-files/azure_high_availability-add-000007.png)"
   ]
  },
  {
   "cell_type": "markdown",
   "metadata": {
    "vscode": {
     "languageId": "plaintext"
    }
   },
   "source": [
    "To get a world view of the zones, click on Geo‑replication. The primary location is Central US, in blue here. The secondary location, East US 2, is represented here in green. The chances that both these locations suffer an outage at the same time are quite small, and your applications can keep running inevitably."
   ]
  },
  {
   "cell_type": "markdown",
   "metadata": {
    "vscode": {
     "languageId": "plaintext"
    }
   },
   "source": [
    "![](https://storage.googleapis.com/agungwahyudi-public-files/azure_high_availability-add-000008.png)"
   ]
  },
  {
   "cell_type": "markdown",
   "metadata": {
    "vscode": {
     "languageId": "plaintext"
    }
   },
   "source": [
    "Now let's go to Properties. From here we can see, if we take as an example the blob service that the primary and secondary endpoints are just the same. Only secondary was added. In the event of an outage in the primary location, Microsoft will take care of switching these DNS entries for you so that the secondary location becomes the primary."
   ]
  },
  {
   "cell_type": "markdown",
   "metadata": {
    "vscode": {
     "languageId": "plaintext"
    }
   },
   "source": [
    "![](https://storage.googleapis.com/agungwahyudi-public-files/azure_high_availability-add-000009.png)"
   ]
  },
  {
   "cell_type": "markdown",
   "metadata": {
    "vscode": {
     "languageId": "plaintext"
    }
   },
   "source": [
    "If you were to initiate the failover by yourself, you can use a preview available from the Geo‑replication section. At the bottom of the page, click on Prepare for failover. You can see the last sync time between the two locations. An important warning here states that the storage account replication will be converted to a locally redundant storage account. In order to enable replication again to another region, you will need to re‑enable GRS or RA‑GRS replication on your storage account. Now let's jump to the next clip on virtual machine managed disk."
   ]
  },
  {
   "cell_type": "markdown",
   "metadata": {},
   "source": [
    "# Virtual Machine Managed Disks"
   ]
  },
  {
   "cell_type": "markdown",
   "metadata": {},
   "source": [
    "![](https://storage.googleapis.com/agungwahyudi-public-files/azure_high_availability-3-000016.png)"
   ]
  },
  {
   "cell_type": "markdown",
   "metadata": {},
   "source": [
    "You can build a lot from Azure, whether it is a virtual machine scale set, a SQL databases or web apps. All of these have their different features to provide high availability to your applications, but there is one very common object that you can deploy within Azure and that is an Azure virtual machine. So how can we provide HA to virtual machines? Well, it's all possible with the use of Azure managed disks. When using Azure managed disks, you don't need to deploy any storage account. Basically, all you need to do is provide the details for your disk, and Microsoft will handle the storage account creation and will manage the disk for you. Details for your disk are as follows. You will need to specify the disk size, the type of the disk you want, and then provision the disk for your virtual machine. That's about all you need to think about."
   ]
  },
  {
   "cell_type": "markdown",
   "metadata": {},
   "source": [
    "![](https://storage.googleapis.com/agungwahyudi-public-files/azure_high_availability-3-000017.png)"
   ]
  },
  {
   "cell_type": "markdown",
   "metadata": {},
   "source": [
    "Even though provisioning Azure managed disks is quite easy, it is important to understand its key concepts, such as disk types. This will be helpful when designing high availability for your organization. Let's see what is available.\n",
    "\n",
    "If you're looking for very high performance, you could use Ultra Disk. Be aware this option is not available in all regions or VM sizes. Ultra disks are commonly used for very heavy workloads, for example, when running a database dealing with a high volume of transactions.\n",
    "\n",
    "There is also Premium and Standard SSD. Both are running on solid state drives. Standard SSD is typically used for web servers or development environments. If you're planning managed disks for a virtual machine running a production environment where performance matters, you should look at a Premium SSD disk type.\n",
    "\n",
    "The last option available is Standard HDD. This should be used for data that is not frequently accessed, such as archiving or any data that does not require high IOPS performance."
   ]
  },
  {
   "cell_type": "markdown",
   "metadata": {},
   "source": [
    "![](https://storage.googleapis.com/agungwahyudi-public-files/azure_high_availability-3-000018.png)"
   ]
  },
  {
   "cell_type": "markdown",
   "metadata": {},
   "source": [
    "Managed disks are made to be highly available by design. In fact, Microsoft will keep three copies or three replicas of your data. You do not have to bother with the underlying infrastructure, as it has been taken care of by Azure. So what it means, if there is an outage and you lose two locations where your data resides, your applications running on virtual machines with managed disks will be kept persistent. This provides a 5 nines SLA. Also, when working with managed disks, you can run up to 50,000 virtual machine disks within a subscription per region."
   ]
  },
  {
   "cell_type": "markdown",
   "metadata": {},
   "source": [
    "![](https://storage.googleapis.com/agungwahyudi-public-files/azure_high_availability-3-000019.png)"
   ]
  },
  {
   "cell_type": "markdown",
   "metadata": {},
   "source": [
    "There is an integration between managed disks and virtual machine disks when using an availability set. We covered availability sets in a previous module, so you will remember that using this feature, Microsoft will make sure all your replicas are isolated from one another so if there is any kind of outage in one location, your data or your virtual machine disks are still accessible. The concept behind this is placing disks in different storage scale units. If one unit becomes unavailable, the other storage scale units will take it from there. Let's say you are running an application on two or more virtual machines within an availability set, one storage scale unit fails, the other units still running will keep your applications available to your organization. Well, enough said, now let's see how to put this in place in practice."
   ]
  },
  {
   "cell_type": "markdown",
   "metadata": {},
   "source": [
    "# Virtual Machine Snapshots and Backups"
   ]
  },
  {
   "cell_type": "markdown",
   "metadata": {},
   "source": [
    "![](https://storage.googleapis.com/agungwahyudi-public-files/azure_high_availability-3-000021.png)"
   ]
  },
  {
   "cell_type": "markdown",
   "metadata": {},
   "source": [
    "Another way of providing high availability with virtual machine managed disks is the ability to take snapshots and backups in case of a disaster recovery. Some are going to tell me this is not really high availability, but being able to rapidly bring back an environment online or to revert to a previous state can bring this kind of HA feature we're looking for. For those of you working with virtual machines, not just within the Azure portal, but in general, chances are that you're already familiar with the concept of a virtual disk snapshot. A snapshot is an exact copy of the virtual hard drive attached to a virtual machine. You can take a snapshot of the OS disk or any other data disk. This feature becomes very interesting when troubleshooting issues with a VM. Once the snapshot is taken, it is possible to attach the disk to another virtual machine and troubleshoot the issue without affecting the production environment of, let's say, the live virtual machine."
   ]
  },
  {
   "cell_type": "markdown",
   "metadata": {},
   "source": [
    "![](https://storage.googleapis.com/agungwahyudi-public-files/azure_high_availability-3-000022.png)"
   ]
  },
  {
   "cell_type": "markdown",
   "metadata": {},
   "source": [
    "There are two snapshot types available. The first option is full, which is a complete read‑only copy of the VHD. The second option is incremental. This snapshot will contain a copy of the VHD based on only the differences with the previous snapshot. This can help in reducing costs."
   ]
  },
  {
   "cell_type": "markdown",
   "metadata": {},
   "source": [
    "![](https://storage.googleapis.com/agungwahyudi-public-files/azure_high_availability-3-000023.png)"
   ]
  },
  {
   "cell_type": "markdown",
   "metadata": {},
   "source": [
    "Virtual machine backups are also a good way to keep your data persistent. The Azure Backup service will provide you with the ability of backing up your VMs according to a schedule defined within a backup policy. The Azure Backup service will create a recovery point out of this backup, which is essentially a snapshot of the VHDs. The recovery points are then stored inside a recovery service vault. We will see in a future demonstration how to configure all of this."
   ]
  },
  {
   "cell_type": "markdown",
   "metadata": {},
   "source": [
    "![](https://storage.googleapis.com/agungwahyudi-public-files/azure_high_availability-3-000024.png)"
   ]
  },
  {
   "cell_type": "markdown",
   "metadata": {},
   "source": [
    "Another solution including both disaster recovery and high availability is the Azure Site Recovery service. It will replicate your organization's workloads from a primary site to a secondary location. In case of a failure in the primary site, your applications still are accessible. Here are just a few of the benefits of using Site Recovery. There is on‑premises VM or physical server replication to Azure. That could change the way your organization sees how to maintain a secondary location for hosting your applications. You can also replicate workloads whether they are running on VMware virtual machines are Hyper‑V. It can be physical servers with different operating systems."
   ]
  },
  {
   "cell_type": "markdown",
   "metadata": {},
   "source": [
    "![](https://storage.googleapis.com/agungwahyudi-public-files/azure_high_availability-3-000025.png)"
   ]
  },
  {
   "cell_type": "markdown",
   "metadata": {},
   "source": [
    "One great feature is the ability to test failover without any disruption to your production environment. When testing a disaster recovery scenario, it will not affect any replication going on. Let's now jump to the next clip and see how this can be done from the Azure portal."
   ]
  },
  {
   "cell_type": "markdown",
   "metadata": {
    "vscode": {
     "languageId": "plaintext"
    }
   },
   "source": [
    "# Working with Virtual Machine Snapshots"
   ]
  },
  {
   "cell_type": "markdown",
   "metadata": {
    "vscode": {
     "languageId": "plaintext"
    }
   },
   "source": [
    "This demo will show how to create a snapshot out of a data disk attached to a virtual machine. We'll then see how to use the snapshot to create a new managed disk, which can be later on attached to another virtual machine for troubleshooting. I previously deployed a virtual machine named LABM4VM. Let's click on the Disks section. I can see here information about the OS disk, such as the name, size, and storage account type. There is no other disk attached to this virtual machine so I'll just click on Add Data Disk. Then click on Create Disk, as we do not have any managed disk available. I'll give it a name, which will be data. I will keep the rest with the default settings. I also changed the size for a 32GB standard HDD. You can easily do so by clicking Change Size. I'm now ready, so I'll just hit Create. Once the deployment is validated, click on Save to complete the process. I can now see the newly attached disk. Now let's click on the disk itself. From here, I can create a snapshot. I'll keep the same resource group as for my virtual machine. Then I need to provide a name for the snapshot. Let's call it LABM4‑Snapshot1. Now it is time to select the snapshot type. This is the very first snapshot for this disk, so I'll keep the type to full. For storage type, you could use Zone‑redundant or choose between Standard HDD or Premium SSD. I'll select Standard HDD, as this snapshot doesn't require any high performance. Once done, click on Review and Create. Make sure that validation passed and finally click on Create again. The deployment will take a couple seconds to complete. Back to the resource group, you can search for the newly created snapshot. You can review the details of the snapshot by clicking on it. We can see the source disk, the snapshot type, its state, storage type, the size, the date It was created, as well as information about the resource group and where the snapshot is located. If you do not require the snapshot anymore, you will find the Delete option at the top, but I will not do this at this point.\n",
    "\n",
    "Let's say you wanted to use the snapshot and attach it as a managed disk to another virtual machine. Click on Create a Resource and search for Managed Disks, then click on Create. First thing, make sure you select a region where the snapshot resides. In my case, I will need to search for the correct region, which is East US 2. The option that we are looking for is under source type, where you can select Snapshot. A list of snapshots available for your region will appear. In my case. I will select LABM4‑Snapshot1. Once this new managed disk is created, it will contain the data from the previous virtual machine at the time the snapshot was taken. Then you can attach this disk to another VM and work with its data. Let's jump to the next clip and see how to enable backups on a virtual machine."
   ]
  },
  {
   "cell_type": "markdown",
   "metadata": {
    "vscode": {
     "languageId": "plaintext"
    }
   },
   "source": [
    "# Enabling Virtual Machine Backups"
   ]
  },
  {
   "cell_type": "markdown",
   "metadata": {
    "vscode": {
     "languageId": "plaintext"
    }
   },
   "source": [
    "In this demonstration, we will see how to protect virtual machines by enabling backups, and we'll see how to get started using Azure Site Recovery. I've already selected the virtual machine for which I want to enable backups. From the left pane, search for the Backup option. From here, as I do not have an existing Recovery Services vault, I'll simply create a new one. I'll keep the same Resource group, and then I'll click on Create a new policy to see the options available. I could configure the Backup schedule from here, as well as the Retention range. Once everything is configured according to your needs, simply Enable Backup. In the previous clip, we got an overview of Site Recovery, and we've learned that it could replicate virtual machines to another region. To access Azure Site Recovery, click on Disaster recovery. From here, I could select the target region. Let's say I want to replicate my VM in another part of the U.S., I'll select West US. By scrolling down, we can get a world map view of the available regions. We see the flow here indicating the source and target regions where the virtual machine will be replicated. Let's click on Advanced settings, Azure will create a new VM resource group, as well as a new Virtual network. It will also create a new cache storage account and two replica managed disks. You can click on Show details to see exactly what will be created. I can see both disks attached to my virtual machine. I could specify the disk type for the replica. I could also decide not to include a disk for replication. Under Replication settings, let's click on Show details. A new Recovery services vault will be created, as well as a new Vault resource group. The Replication policy will be set to 24 hours. Finally, under Extension settings we see that an Automation account will also be created to be able to manage the replication process. Once we're done, simply click on Review and Start replication. Here we get the big picture of our Replication settings. I could start a process by clicking on Start replication. This is the end of this clip on enabling virtual machine backups."
   ]
  },
  {
   "cell_type": "markdown",
   "metadata": {
    "vscode": {
     "languageId": "plaintext"
    }
   },
   "source": [
    "# High Availability with Azure SQL Database Geo Replication"
   ]
  },
  {
   "cell_type": "markdown",
   "metadata": {
    "vscode": {
     "languageId": "plaintext"
    }
   },
   "source": [
    "With this next clip, I will demonstrate how to configure I‑ availability when working with Microsoft Azure SQL databases. In order to do so, we will use geo‑replication. We will build two servers and replicate a database between two locations. Once logged into the Azure portal, get the SQL Databases section. We do not add any database right now. In order to create a new one, select Create SQL database. You can create a new resource group if necessary. In my case, I'll just select a resource group previously created, which is LABM4‑RG. Now is the time to provide information about our new DB. First, I'll provide a name, labm4db. Second, we need to deploy a server. This server will be entirely managed by the Azure team, so no worries about security patching or any other management tasks. The name of the server will be labm401. The name must be unique within the database.windows.net namespace. We now need to provide the server admin username and password and finally select the location, which is in my case, East US. We will not be using SQL elastic pool. This is a nice option when you want to share resources when working with multiple databases, which is not the case here. Next to compute and storage, click on Configure database. From here, you can select between multiple tiers. Depending on your needs, it could be a general‑purpose database or, if you need to be able to use hyperscale, which provides your database with on‑demand scalable storage. If you're planning on running an application with a high transaction rate, you would choose Business Critical. In our case, as this is a lab environment, let's look for the basic tier. It can be found by clicking on the link right here on the left. We now have three options available: basic standard, and premium. Let's select basic. I will keep the default of 5 DTUs or database transaction units. A DTU is essentially a unit of measure. This will be used for performance measurement for a database within a service tier. The measures are a mix of read and write operations and CPU and memory usage. In our case, we'll get a 5 DTU model. I will keep the default parameter of 2GB for the maximum data size. Click on Apply, and then click on Review and Create. You can review the parameters and make sure everything is set according to your needs, and then initiate the deployment by clicking on Create. The deployment is now complete, so I'll just click on a Go to Resource. I can see the server name here if I wanted to connect to the server and manage the database using an application such a SQL Server Management Studio, but for now, we want to replicate this database. Let's go to the Geo‑Replication section. From here, I can select the target region where I want to create the secondary database. From the list of available regions, I'll select West US. We can see that the secondary database will be readable. This means you could set up connections to this database that were read‑only operations. This can help in reducing the number of transactions the primary database has to deal with. For example, you could set up reports based on that secondary database instead of the primary. Now we need a secondary server as well, so let's select Target Server and provide necessary information such as server name, which will be labm402, and username and password for the admin account. Once this is done, click on Select and then click on OK. The deployment will start. We can see here the source location as well as the destination. Once the deployment is complete, you will see a solid link between the two locations. Just below, we can see the status of the replication between both databases. If I click on a context menu, I see I have the ability to either force a failover and make this database available for write and read operations and setting the other database as read‑only. We also have the ability to stop replication. This is the end of this demo on Azure SQL Database geo‑replication."
   ]
  },
  {
   "cell_type": "markdown",
   "metadata": {
    "vscode": {
     "languageId": "plaintext"
    }
   },
   "source": [
    "# Module Summary"
   ]
  },
  {
   "cell_type": "markdown",
   "metadata": {},
   "source": [
    "![](https://storage.googleapis.com/agungwahyudi-public-files/azure_high_availability-3-000026.png)"
   ]
  },
  {
   "cell_type": "markdown",
   "metadata": {},
   "source": [
    "This is already the end of this module. Let's recap on what we've covered so far. We started with the different storage account types. When you are you working within Azure SQL databases or virtual machines, storage is definitely a key component in your architecture. Correctly planning ID available storage is essential. Storage performance is also something that needs to be considered. You could use standard, which is the lowest in cost, and could be used as an example for archiving. You could also choose premium for best performance for applications with rate transactions such as in Azure SQL database."
   ]
  },
  {
   "cell_type": "markdown",
   "metadata": {},
   "source": [
    "![](https://storage.googleapis.com/agungwahyudi-public-files/azure_high_availability-3-000027.png)"
   ]
  },
  {
   "cell_type": "markdown",
   "metadata": {},
   "source": [
    "We then got into how Azure replication works, and how multiple copies of your data are replicated to ensure persistence during planned and unplanned maintenance. We've learned the difference between locally, zone, geo, and geo‑zone‑redundant storage. We've seen how to gain read access to the data replicated to a secondary region. Our next topic was virtual machine managed disks, and which types should be used based on different scenarios. We've seen how Azure maintains persistence of your managed disk by keeping three replicas of your data. We continued this module on how to provide high availability and disaster recovery options for virtual machine managed disk. I'm talking here about managed disk snapshots to be able to restore to a previous state or to use a snapshot to create a new managed disk for troubleshooting. We then covered disaster recovery by enabling backup on a virtual machine.. We completed this module on how to configure Azure SQL database geo‑replication to provide high availability to our databases. Now let's jump to the next module on designing for network redundancy."
   ]
  }
 ],
 "metadata": {
  "language_info": {
   "name": "python"
  }
 },
 "nbformat": 4,
 "nbformat_minor": 2
}
