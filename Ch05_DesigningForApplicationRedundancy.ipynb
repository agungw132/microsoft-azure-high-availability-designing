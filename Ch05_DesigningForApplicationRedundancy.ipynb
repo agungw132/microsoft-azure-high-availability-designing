{
 "cells": [
  {
   "cell_type": "markdown",
   "metadata": {},
   "source": [
    "# Introduction"
   ]
  },
  {
   "cell_type": "markdown",
   "metadata": {},
   "source": [
    "![](https://storage.googleapis.com/agungwahyudi-public-files/azure_high_availability-5-000002.png)"
   ]
  },
  {
   "cell_type": "markdown",
   "metadata": {},
   "source": [
    "This is the last module of this course on Designing for High Availability on Microsoft Azure. Withing the next clips, we'll dive deeper in designing for application redundancy. Some services in Azure can natively use high‑availability options. We'll see how the Azure App Service can provide support for highly available web applications. There are some interesting app service plans available, and we will learn how this Azure service can provide resiliency to web apps deployed for your users or customers. We will then discuss asynchronous messaging and see how it works using different scenarios. We're all used to the conventional way of getting a user filling in a form on a web app and get the entered information directly sent to our database. At this point, we will be introduced to the concept of message queuing and see how it brings resiliency to your web applications. We'll see how losing communication with a database tier doesn't actually mean losing data. Services offering message queuing in Azure are the Azure Service Bus, as well as the Azure Storage Queue feature. We will explore different redundancy options available for both of these services. We'll also get some hands on in the Azure portal to get both a service bus and a storage queue running. I hope you will enjoy this SaaS module. Let's jump to the next clip on resiliency and the Azure App Service."
   ]
  },
  {
   "cell_type": "markdown",
   "metadata": {},
   "source": [
    "# Azure App Service Resiliency"
   ]
  },
  {
   "cell_type": "markdown",
   "metadata": {},
   "source": [
    "![](https://storage.googleapis.com/agungwahyudi-public-files/azure_high_availability-5-000004.png)"
   ]
  },
  {
   "cell_type": "markdown",
   "metadata": {},
   "source": [
    "One of the very first steps in architecting your Azure web applications is to prepare for high availability and resiliency. Doing so during deployment or once your applications are in production and available to users might prove to be quite difficult or simply not possible. So it is very important to design this prior to any deployment. Microsoft defines resiliency as the ability of a system to recover from failures and continue to function. We will see how the Azure App Service can provide such resiliency when deploying highly‑available web applications. We've already covered this earlier in this course, but let's see some other features it has to offer to provide high availability to your web applications. The Azure App Service is fully managed by Azure. You will only need to determine the App Service plan on which the Azure app will run. The service plan is essentially the virtual machines that will host your web application. Different pricing tiers are available, each with different features and hardware."
   ]
  },
  {
   "cell_type": "markdown",
   "metadata": {},
   "source": [
    "![](https://storage.googleapis.com/agungwahyudi-public-files/azure_high_availability-5-000005.png)"
   ]
  },
  {
   "cell_type": "markdown",
   "metadata": {},
   "source": [
    "Remember, we covered in a previous module DTUs, or database transaction units, are being used to determine the performance of an Azure SQL database. Well, it is the same concept here. The measure of units is called ACU, or Azure compute units. This represents the dedicated compute resources your App Service plan will provide to run your applications. The current standard for an Azure compute unit is 100, and it is based on the small standard A1 virtual machine. Any higher ACU would approximately determine how much faster it can run based on that benchmark. For example, the P1V2 Production tier is 210 total ACU. This is the compute equivalent of a DV2 series virtual machine.\n",
    "\n",
    "If you decide on any of the Production tiers available, you will get a feature called staging slots, as well as automated backups. A staging slot is a different place within your service plan where you can stage a dev or test version of your application. What it means is that you could have a production app available to all users and place another version in the slot and provide access to your developers for them to test and debug that version. Once the test version passes all user acceptance tests, you can swap the web app into production, but you need to be careful.\n",
    "\n",
    "Microsoft recommends creating a separate App Service plan for both production and development. While it is possible to use slots for testing within your production environment, note that all applications within an App Service plan are hosted on the same virtual machine instances. So if for whatever reasons, the test app takes a lot of resources from your service plan, the production environment could not perform as expected. Simply keep this in mind if you're planning on using staging slots in a production environment."
   ]
  },
  {
   "cell_type": "markdown",
   "metadata": {},
   "source": [
    "![](https://storage.googleapis.com/agungwahyudi-public-files/azure_high_availability-5-000006.png)"
   ]
  },
  {
   "cell_type": "markdown",
   "metadata": {},
   "source": [
    "To provide high availability when using the App Service, make sure you deploy at least two instances. Remember, an instance is typically the VM your web app is running on. Running a single instance is a single point of failure, so you'll want to make sure you are running more than one instance at all time. When working with the App Service, avoid vertical scaling. Remember that scaling up or down can require your web apps to restart, and this will cause downtime. Instead, consider selecting a tier that meets the requirements and scale in or out as necessary. This will not require any of your web applications to restart. Scaling in or out is simply adding or removing an instance or a virtual machine, which is all transparent to the users."
   ]
  },
  {
   "cell_type": "markdown",
   "metadata": {},
   "source": [
    "# Asynchronous Messaging and High Availability"
   ]
  },
  {
   "cell_type": "markdown",
   "metadata": {},
   "source": [
    "![](https://storage.googleapis.com/agungwahyudi-public-files/azure_high_availability-5-000008.png)"
   ]
  },
  {
   "cell_type": "markdown",
   "metadata": {},
   "source": [
    "Before talking about the Azure service bus and Azure storage queues, let's discuss asynchronous messaging and its high‑availability features. Let's start with a classic scenario. A user will access a web form available from multiple web servers. The user enters some information to the form. It could be a purchase order, for example. Once it is completed, the user clicks on Submit and the form is sent to the back‑end tier. It could be a SQL Server that stores information into one or multiple databases. That information can then later be processed by your application. In this scenario, a failure to communicate with the database tier, either the virtual machine where a SQL Server is installed or any of the involved databases, could lead to users receiving error messages and not being able to successfully complete their transactions."
   ]
  },
  {
   "cell_type": "markdown",
   "metadata": {},
   "source": [
    "![](https://storage.googleapis.com/agungwahyudi-public-files/azure_high_availability-5-000009.png)"
   ]
  },
  {
   "cell_type": "markdown",
   "metadata": {},
   "source": [
    "Let's take the same scenario, but this time, we'll add something else, which is the concept of message queuing. A user will still access the form from the web servers, but once to user the clicks on Submit, instead of sending the data directly to the SQL Server, the information is sent to the service bus queue. The data is transferred as a message to be asynchronously treated later on by the application."
   ]
  },
  {
   "cell_type": "markdown",
   "metadata": {},
   "source": [
    "![](https://storage.googleapis.com/agungwahyudi-public-files/azure_high_availability-5-000010.png)"
   ]
  },
  {
   "cell_type": "markdown",
   "metadata": {},
   "source": [
    "Messages are text files. It could be a JSON or XML file type, and the message will contain information, such as a new purchase order or modifications on the user account. These files are very small in size, and for this reason, it is possible to queue a large quantity of messages. When a message is sent to a queue, a timestamp is added to the file. You can define an expiration date on messages so an action can be taken when a time to live has been reached. In the event of a failure with either the SQL Server or any of its databases, the messages sent to the service bus queue will remain accessible until the problem with the database tier is solved. At that point, messages that have been queued can then be processed by your application. What this means from the user's perspective that the information submitted on the web app will still be processed without any error messages popping up on the user screen.\n",
    "\n",
    "Being able to decouple applications, in the sense that the client and the service may not be online at the same time, is a great way to provide resiliency and high availability to your applications."
   ]
  },
  {
   "cell_type": "markdown",
   "metadata": {},
   "source": [
    "![](https://storage.googleapis.com/agungwahyudi-public-files/azure_high_availability-5-000011.png)"
   ]
  },
  {
   "cell_type": "markdown",
   "metadata": {},
   "source": [
    "Microsoft offers the Azure service bus, which is a secure platform for transferring data between applications and services. This gives you the opportunity to decouple applications, as we discussed earlier. Now that we understand our messages are sent through a service bus queue, we need to think about redundancy for the service. If the region where your service bus is located experiences some sort of disaster, you must have a failover plan. The service bus namespace is available with three different pricing tiers, Basic, Standard, and Premium. Just as with any other services, each price and tier comes with different features. If you choose a Premium option, you get a very interesting feature, which is Geo‑disaster recovery."
   ]
  },
  {
   "cell_type": "markdown",
   "metadata": {},
   "source": [
    "![](https://storage.googleapis.com/agungwahyudi-public-files/azure_high_availability-5-000012.png)"
   ]
  },
  {
   "cell_type": "markdown",
   "metadata": {},
   "source": [
    "This feature provides redundancy as you can pair different regions for your service bus queues. In case of an outage in a primary namespace region, you, as a customer, can initiate a failover to the secondary namespace region. Note that only metadata, such as queues and their properties, are automatically replicated, but not the messages themselves. Now, let's take some time to cover Azure storage queues. Storage queues are part of the Azure Storage infrastructure. In fact, a prerequisite for the creation of a storage queue is a storage account. Azure storage queues were made available prior to the service bus, but both technologies exist concurrently. There might be some scenarios where you need more advanced integration between your services, and you might find that Azure storage queues do not meet your requirements. As an example, you should consider using storage queues if your application needs to store over 80 GB of data or messages inside the queue. Let's move to the demo and see how to create queues from the Azure portal."
   ]
  },
  {
   "cell_type": "markdown",
   "metadata": {
    "vscode": {
     "languageId": "plaintext"
    }
   },
   "source": [
    "# Working with the Azure Service Bus"
   ]
  },
  {
   "cell_type": "markdown",
   "metadata": {
    "vscode": {
     "languageId": "plaintext"
    }
   },
   "source": [
    "With this clip, I will demonstrate how to create an Azure Service Bus from the Azure portal. We will then create a new queue within the Service Bus we just created. From the Azure portal, select Create a resource, and search for Service Bus. This will bring you to this page. Click on Create to configure the Service Bus resource. Select a resource group or create a new one. In my case, I'll create a new resource group named LABM6‑RG. We now need to enter a unique name under the servicebus.windows.net namespace. I started typing the number 1, and I think it is worth to look at the prerequisites for providing a name. We can read that the namespace can contain only letters, numbers, and hyphens. The namespace must start with a letter, and it must end with a letter or number. The name I will provide will be labm6bus, select your location, in my case East US. Now let's see the different pricing tiers available to us. We can choose from Basic, Standard, and Premium. There is something I want to demonstrate here if you would choose Premium. We can see we can make this namespace zone redundant by replicating your data across availability zones within one region. For the purpose of this demo, let's select the Basic tier and create the new Service Bus namespace. Once the deployment is complete, go to the resource group where the Service Bus was created, and click on the Service Bus object.\n",
    "\n",
    "Let's visit the Geo Recovery section. As I mentioned earlier, this feature is available only using a premium namespace. If this was the case, you could initiate pairing by clicking here, and select a secondary namespace. If this kind of resiliency and high availability is what is required by your organization, you would have to go with the Premium pricing tier. Now let's set off to create a queue within this namespace. Under Entities, click on Queues. From here, you can view existing queues, or create a new one by clicking here. We'll need to provide a name, I will call it labm6queue. I could modify the Max queue size here, as well as the Message time to live, and in this case, I will create this queue and keep the default settings. Once created, you can open the queue and monitor the number of messages or the available space remaining. Now let's jump to our next topic on Azure Storage Queues."
   ]
  },
  {
   "cell_type": "markdown",
   "metadata": {
    "vscode": {
     "languageId": "plaintext"
    }
   },
   "source": [
    "# Working Azure Storage Queues"
   ]
  },
  {
   "cell_type": "markdown",
   "metadata": {
    "vscode": {
     "languageId": "plaintext"
    }
   },
   "source": [
    "With this clip, I will demonstrate how to create an Azure storage queue from the Azure portal. We will also see how to create a new queue from a storage account and create a message within this new queue. As I mentioned earlier, Azure storage queues are built on top of storage account, so we will need to start by creating one. From the Storage accounts blade, click on Add. I'll select the Resource group we created earlier, LABM6‑RG, the Storage account name will be m6storagequeue, and I'll also select my Location, East US. I'll keep Standard Performance. Under Account kind, make sure StorageV2 is selected. Under Replication, select Geo‑redundant storage. That's about all the information required at this point, so let's create a new storage account. Once the deployment is complete, you can go back to the Storage account section and select the newly created object to see the configuration.\n",
    "\n",
    "Let's go to the Geo‑replication section. We can see the primary and secondary location from here, as well as their status. So if the primary location was to go down, I could failover to the secondary location to keep my web application running. Now let's create a queue within the storage account. From the left pane, drill down to the Queue service section and click on Queues. From here, we can view existing queues or create a new one by clicking here. We need to provide a name, which will be webqueue. Once the queue is created, you can access it by clicking on it. From here, I can manually add a message. Typically, in a production of environment, messages will be created and sent to the queue by some code used by the web application accessed by your users. Let's add a message to the queue. I can enter text here. The text here is the data a customer would have entered filling in a form from your web application. You can set a time to live and click on OK to add the message to the queue. The message has been successfully added. You can click on it to get more information. You can also dequeue the message, which will delete only this message, or clear the queue, which will delete all messages. Let's move to the final clip and wrap up things covered through this module."
   ]
  },
  {
   "cell_type": "markdown",
   "metadata": {
    "vscode": {
     "languageId": "plaintext"
    }
   },
   "source": [
    "# Module Summary"
   ]
  },
  {
   "cell_type": "markdown",
   "metadata": {},
   "source": [
    "![](https://storage.googleapis.com/agungwahyudi-public-files/azure_high_availability-5-000013.png)"
   ]
  },
  {
   "cell_type": "markdown",
   "metadata": {},
   "source": [
    "This is the end of this course on designing for high availability on Microsoft Azure. Let's do a quick recap of what we covered here. We've learned that preparing for high availability and resiliency for your applications is meant to be done at the very beginning of your architecture design. So we started with resiliency within the Azure App Service. We've seen that some Azure services can natively benefit from high availability options such as availability zones. We've covered the different App Service plans, which are a Basic, Standard, and Premium. We also discussed staging slots. This feature grants you the ability to deploy different versions of your applications within the same App Service plan. Remember, Microsoft recommends using different service plans for your dev and production environment. This is recommended so that your test application will not affect your production environment. An App Service plan is using the same virtual machines, whether it is for your application running in dev or production. We have learned about asynchronous messaging in general and then covered queuing services in Azure, such as the Azure Service Bus and the Azure Storage queue. I hope that what we've covered in this course will help you better design your resources for high availability within Azure. Whether we're talking about virtual machines and managed disks, load balancing and virtual machine scale sets, are simply how to geo‑replicate an Azure SQL database, you now know how to get the most of the different services that natively support availability zones. I hope you enjoyed watching this course on Designing for High Availability on Microsoft Azure on Pluralsight."
   ]
  }
 ],
 "metadata": {
  "language_info": {
   "name": "python"
  }
 },
 "nbformat": 4,
 "nbformat_minor": 2
}
