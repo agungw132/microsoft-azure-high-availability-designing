{
 "cells": [
  {
   "cell_type": "markdown",
   "metadata": {},
   "source": [
    "# Course Overview\n",
    "\n",
    "Hi everyone. My name is Jeff Landry, and welcome to my course, Designing for High Availability on Microsoft Azure. In this course, we're going to learn how to deploy Azure services to provide highly available applications to your organization. Some of the major topics that we will cover include availability sets and availability zones, Azure autoscale, Azure storage replication and how it works, and different load balancing solutions and when to use them. By the end of this course, you'll know how to take benefit of what the Azure global infrastructure can offer in terms of resilience and high availability. Before beginning the course, you should have basic knowledge of the Azure portal. I hope you'll join me on this journey to learn how to provide highly available services with the Designing for High Availability on Microsoft Azure course at Pluralsight."
   ]
  },
  {
   "cell_type": "markdown",
   "metadata": {
    "vscode": {
     "languageId": "plaintext"
    }
   },
   "source": [
    "# Introduction"
   ]
  },
  {
   "cell_type": "markdown",
   "metadata": {},
   "source": [
    "![](https://storage.googleapis.com/agungwahyudi-public-files/azure_high_availability-1-000002.png)"
   ]
  },
  {
   "cell_type": "markdown",
   "metadata": {},
   "source": [
    "Greetings everyone, and welcome to this course on Designing for High Availability on Microsoft Azure. Here we will cover features such as Azure autoscale and understand differences between horizontal and vertical scaling. We will learn how to design for storage high availability and see how we can keep our data safe using different replication options. We will then cover network redundancy and see how this can be done using the Azure platform. We'll complete this course on how to provide redundancy for your applications, whether you are working with Azure SQL databases or the Azure app service."
   ]
  },
  {
   "cell_type": "markdown",
   "metadata": {},
   "source": [
    "![](https://storage.googleapis.com/agungwahyudi-public-files/azure_high_availability-1-000003.png)"
   ]
  },
  {
   "cell_type": "markdown",
   "metadata": {
    "vscode": {
     "languageId": "plaintext"
    }
   },
   "source": [
    "With this first module on Designing for Azure High Availability, we will understand how the Azure global infrastructure works and how it is designed to help us provide highly available applications to the Azure platform. We will learn on to find available regions depending on your geographical location. We'll also learn about paired regions, which is a very interesting concept for providing both high availability and persistence to your virtual machines. We will also cover availability sets and availability zones and see the key differences between both of these features. We'll go through a demo where we will actually deploy virtual machines within an availability set and see how our VMs are deployed within different fault domains and update domains. We will also learn the difference between these two types of domains and see where it can all fit in architecting Azure for high availability. We'll complete this module by covering Azure key services with support for availability zones."
   ]
  },
  {
   "cell_type": "markdown",
   "metadata": {
    "vscode": {
     "languageId": "plaintext"
    }
   },
   "source": [
    "# Understanding the Azure Global Infrastructure"
   ]
  },
  {
   "cell_type": "markdown",
   "metadata": {
    "vscode": {
     "languageId": "plaintext"
    }
   },
   "source": [
    "Before getting started providing high availability to your applications, it is important to understand the Azure global infrastructure. This comes from the Microsoft web page under the global infrastructure section. At the time of this recording, the Azure global infrastructure has 58 regions available in 140 countries. This might change over time as Microsoft is always expanding its infrastructure. So I recommend visiting the site as a first step before working on any high availability architecture while planning for your deployment.\n",
    "\n",
    "Let's select Azure regions. A region is defined by Microsoft as a set of data centers deployed within a latency‑defined perimeter and connected through a dedicated regional low‑latency network. What this means, a region is a physical location where you may have multiple physical data centers within it. From the world map, we can see available regions represented by a blue dot. We can also see announced regions represented with a dotted circle. We can see Mexico Central and Spain Central are announced regions at this moment and are not yet ready.\n",
    "\n",
    "Availability zones also appear here. We'll cover availability zones in just a few moments. But you can think of it as a separate physical data center inside a region.\n",
    "\n",
    "The Azure geographies section provides information about the regions based on their geographical location. If you are planning on deploying applications in a specific country, you can get the available regions from here.\n",
    "\n",
    "A very interesting section is the Products by region. Not all products are available in all regions, so this is a good place to start by making sure the product you are planning to deploy is actually available for a specific region. For example, I ran a search for Azure SQL database based on regions in Canada and the United States. We can see the product is generally available in all regions. So if my intention was to deploy an Azure SQL database, I could choose between any of these available regions. In some cases, either due to legal restrictions or business security policies or simply out of curiosity, you might be interested in knowing the location where your resources reside. For example, we can see the different regions for the United States, Canada, and Brazil, as well as the city where they are located."
   ]
  },
  {
   "cell_type": "markdown",
   "metadata": {},
   "source": [
    "![](https://storage.googleapis.com/agungwahyudi-public-files/azure_high_availability-1-000005.png)"
   ]
  },
  {
   "cell_type": "markdown",
   "metadata": {},
   "source": [
    "Another important concept are paired regions. Two regions within the same geographical location can be configured by Azure as a regional pair. Whenever there is planned maintenance for a regional pair, the Azure team would make sure each region is updated one after the other and not at the same time. This ensures your applications are still accessible. Also, in case of a disaster where multiple regions are affected, Azure will prioritize the recovery of at least one region in each pair."
   ]
  },
  {
   "cell_type": "markdown",
   "metadata": {},
   "source": [
    "![](https://storage.googleapis.com/agungwahyudi-public-files/azure_high_availability-1-000006.png)"
   ]
  },
  {
   "cell_type": "markdown",
   "metadata": {},
   "source": [
    "Here's some examples of Azure regional pairs. In Canada, there's regional pair A, which is Canada Central, and regional pair B, which is Canada East. For North America, we can see that East US is paired with West US, and East US 2 is paired with Central US. As a customer, you cannot decide on which regions should be paired with another region. This is all being handled by Azure. It is possible for you to do some sort of paring, but you will need to customize your own scripts and configurations. For example, you might want to copy data from one region to another region in another country. In most cases, you will want to rely on Azure for setting up regional pairs. Now that we know how to get the most up‑to‑date information about the Azure global infrastructure, let's jump to the next clip on the concept of Azure availability sets and availability zones."
   ]
  },
  {
   "cell_type": "markdown",
   "metadata": {
    "vscode": {
     "languageId": "plaintext"
    }
   },
   "source": [
    "# Availability Sets and Availability Zones"
   ]
  },
  {
   "cell_type": "markdown",
   "metadata": {},
   "source": [
    "![](https://storage.googleapis.com/agungwahyudi-public-files/azure_high_availability-1-000008.png)"
   ]
  },
  {
   "cell_type": "markdown",
   "metadata": {},
   "source": [
    "If you want to make sure your virtual machines are highly available within a physical data center in a single region, you would work with an availability set. An availability set will isolate your virtual machine resources from each other in a logical group. That logical group will be spread across multiple physical servers, each of them with their own storage, network infrastructure, power supply units, and so on. We could compare this as if you were inside your own on‑premise data center and were deciding how to distribute your servers. You would want to make sure if one cabinet was to become non‑operational, you would still have compute power from the other servers installed in the other cabinets."
   ]
  },
  {
   "cell_type": "markdown",
   "metadata": {},
   "source": [
    "![](https://storage.googleapis.com/agungwahyudi-public-files/azure_high_availability-1-000009.png)"
   ]
  },
  {
   "cell_type": "markdown",
   "metadata": {},
   "source": [
    "Availability sets are working just the same by using update domains and fault domains. So how does it work? You will see it is very simple. An update domain is a set of virtual machines that can be rebooted at the same time. You could compare this as a physical server hosting your VMs. By rebooting the server for maintenance, all VMs running on it will also be affected. Note that at some point, Microsoft will need to update the hypervisor your virtual machines are running on and will be required to reboot the server. By spreading your VMs on multiple of the domains, you make sure your resources are still going to be accessible while the maintenance is done. Microsoft will not reboot two update domains at the same time. So let's say you have multiple web servers for an application running on different update domains, a planned or unplanned maintenance on one of the update domains will not affect other web servers running in another update domain. A fault domain contains virtual machines sharing the same power source, networking infrastructure, as well as storage. You can compare fault domains as cabinets inside a data center. When configuring your virtual machines by selecting an availability set, Azure will make sure your VMs are distributed across multiple physical resources as defined by your availability set parameters. We will see in a few minutes how to configure this from the Azure portal. We've seen availability sets provide high availability within a data center."
   ]
  },
  {
   "cell_type": "markdown",
   "metadata": {},
   "source": [
    "![](https://storage.googleapis.com/agungwahyudi-public-files/azure_high_availability-1-000010.png)"
   ]
  },
  {
   "cell_type": "markdown",
   "metadata": {},
   "source": [
    "But what if you wanted to make sure your application will keep running in the event of the failure of this data center? To protect your applications from such a failure, you could use availability zones. It can be defined as unique physical locations within an Azure region. It can be one or more data centers independent from each other regarding the networking equipment, cooling facilities, and power source. When using availability zones, you can count on the service level agreement of 99.99% uptime. We've covered both fault domains and update domains at the beginning of this clip. The same concept is being used by availability zones."
   ]
  },
  {
   "cell_type": "markdown",
   "metadata": {},
   "source": [
    "![](https://storage.googleapis.com/agungwahyudi-public-files/azure_high_availability-1-000011.png)"
   ]
  },
  {
   "cell_type": "markdown",
   "metadata": {},
   "source": [
    "In a scenario with two virtual machines each deployed in a different zone, Azure will make sure the VMs are distributed across two fault domains and two update domains. So if an update domain or physical server goes under maintenance, you will not lose access to your applications as you'll still virtual machines running in another update domain. The same is through for fault domains. For example, following a power outage affecting VMs within a fault domain, VMs in the other fault domain will still be running, and your application will be safe."
   ]
  },
  {
   "cell_type": "markdown",
   "metadata": {},
   "source": [
    "![](https://storage.googleapis.com/agungwahyudi-public-files/azure_high_availability-1-000012.png)"
   ]
  },
  {
   "cell_type": "markdown",
   "metadata": {},
   "source": [
    "You will typically find two categories when working with availability zones. Zonal services, this is when your resources are being deployed within a specific zone, for example your virtual machines and managed disks. The second category is zone‑redundant services. This is when you require your resources to be replicated to other zones. Zone‑redundant storage and SQL database are good examples. Now let's see how this can be achieved from the Azure portal."
   ]
  },
  {
   "cell_type": "markdown",
   "metadata": {
    "vscode": {
     "languageId": "plaintext"
    }
   },
   "source": [
    "# Working with Azure Availability Sets and Availability Zones"
   ]
  },
  {
   "cell_type": "markdown",
   "metadata": {
    "vscode": {
     "languageId": "plaintext"
    }
   },
   "source": [
    "In this demo, we will see how to deploy virtual machines within availability zones. We will also create an availability set using different fault and update domains and see how Azure deals with the deployment of new virtual machines within this availability set."
   ]
  },
  {
   "cell_type": "markdown",
   "metadata": {
    "vscode": {
     "languageId": "plaintext"
    }
   },
   "source": [
    "![](https://storage.googleapis.com/agungwahyudi-public-files/azure_high_availability-add-000001.png)"
   ]
  },
  {
   "cell_type": "markdown",
   "metadata": {
    "vscode": {
     "languageId": "plaintext"
    }
   },
   "source": [
    "From the Azure portal, I'll create a new resource and search for availability set. It is recommended to create the availability set first, and then as you create virtual machines, you select this availability set, and the VMs will be deployed within it. If we take a look at the overview, we can read that an availability set is a group of virtual machines that are deployed across fault domains and update domains. Then it tells us it will not be affected by single points of failure, like networking or power going down for a rack of servers.\n",
    "\n",
    "Let's click on Create to configure this new availability set. You will need to either create a new resource group or use an existing one. I previously created the resource group named LABM2‑RG for this demo. We need to provide a name, which will be webtier. Next, I will select a region, which will be East US 2. Now the interesting part, fault domains and update domains. I'll keep the default of two fault domains, and I'll change the settings for two update domains. This means my virtual machines will be running across two fault domains or cabinets and on two different servers. I'll keep the Yes (Aligned) for the managed disks. This will ensure the storage will also be protected by the use of managed disks. Click on the review and create. You can review the settings here and click on Create when ready. Back to my resource group, I can see the availability set we just created."
   ]
  },
  {
   "cell_type": "markdown",
   "metadata": {
    "vscode": {
     "languageId": "plaintext"
    }
   },
   "source": [
    "![](https://storage.googleapis.com/agungwahyudi-public-files/azure_high_availability-add-000002.png)"
   ]
  },
  {
   "cell_type": "markdown",
   "metadata": {
    "vscode": {
     "languageId": "plaintext"
    }
   },
   "source": [
    "If I click on it, I can see there's no virtual machines running. I'll deploy two VMs within this availability set, and we'll come back to this section to see how Azure placed the VMs within the fault and update domains. As you can see, I deployed two virtual machines, WEB1 and WEB2. WEB1 is running in fault domain 0 and in the update domain 0. As for WEB2, it is running in the fault and update domain 1. If we were to lose one fault domain, the VM running in the other fault domain would still be available. The same is true for the update domains. This is a nice way to provide high availability to our virtual machines."
   ]
  },
  {
   "cell_type": "markdown",
   "metadata": {
    "vscode": {
     "languageId": "plaintext"
    }
   },
   "source": [
    "![](https://storage.googleapis.com/agungwahyudi-public-files/azure_high_availability-add-000003.png)"
   ]
  },
  {
   "cell_type": "markdown",
   "metadata": {
    "vscode": {
     "languageId": "plaintext"
    }
   },
   "source": [
    "Now let's see how to create a virtual machine within this availability set. From the Virtual machine section, click on Add. Select your resource group and provide a name for the VM. In this case, it will be WEB3. Under Availability options, we can see this is set to no infrastructure redundancy required. First, make sure you select the region where the availability set was created. In my case, I changed it for East US 2. Click on the arrow to see other options. We could choose between availability zone or availability set. Select this one. A new field appears. And from the list, I can choose my availability set. You then can complete providing information for the new virtual machine. And once you hit Create, the VM will be deployed within the webtier availability set."
   ]
  },
  {
   "cell_type": "markdown",
   "metadata": {
    "vscode": {
     "languageId": "plaintext"
    }
   },
   "source": [
    "![](https://storage.googleapis.com/agungwahyudi-public-files/azure_high_availability-add-000004.png)"
   ]
  },
  {
   "cell_type": "markdown",
   "metadata": {
    "vscode": {
     "languageId": "plaintext"
    }
   },
   "source": [
    "Now let's say we wanted to use availability zones instead. Let's go back to creating a new virtual machine. If we go back to Availability options, we've seen earlier that availability zone was listed. Let's select this option this time. A new field appears, and we can see that this region has three availability zones. I could specify availability zone 1 for this virtual machine and then availability zone 2 or 3 for the next virtual machines I will deploy. An important note here. These numbers, known as availability zone identifiers, are independent to each subscription. Availability zone 1 might be mapped to a different location and a different subscription. Keep that in mind if you're working with multiple subscriptions. There is typically a minimum of three of availability zones per enabled regions. You might want to make sure availability zones are enabled inside the targeted region before planning high availability for your virtual machines. Let's jump to the next clip on key services supported by Azure high availability."
   ]
  },
  {
   "cell_type": "markdown",
   "metadata": {},
   "source": [
    "# High Availability and Azure Key Services"
   ]
  },
  {
   "cell_type": "markdown",
   "metadata": {},
   "source": [
    "![](https://storage.googleapis.com/agungwahyudi-public-files/azure_high_availability-1-000014.png)"
   ]
  },
  {
   "cell_type": "markdown",
   "metadata": {},
   "source": [
    "Now that we know what our Availability Zones and how it all fits inside the Azure global infrastructure, let's see some key services with support for high availability through the use of Availability Zones. We already know from the previous demo that we can deploy virtual machines, whether it is Linux or Windows operating systems. Using virtual machines combined with Availability Zones is a simple way of providing highly available implications through your business.\n",
    "\n",
    "Talking about virtual machines, we can also deploy virtual machine scale sets using Availability Zones. We're going to cover this later in the this course, but keep in mind that a virtual machine scale set is an elastic group of virtual machines that will either scale in or out, depending on the workload. Working with virtual machine scale sets isn't exactly the same way as working with individual virtual machines.\n",
    "\n",
    "Availability Zones also offer support for the Azure Kubernetes Service, or AKS, as well as Azure App Service environments. If you're planning on deploying an AKS cluster for your content‑based applications, you could do it across Availability Zones."
   ]
  },
  {
   "cell_type": "markdown",
   "metadata": {},
   "source": [
    "![](https://storage.googleapis.com/agungwahyudi-public-files/azure_high_availability-1-000015.png)"
   ]
  },
  {
   "cell_type": "markdown",
   "metadata": {},
   "source": [
    "You can also use Azure Active Directory Domain Services, or Azure AD DS within Availability Zones. If you're planning on moving some of your Active Directory services to the cloud, such as user authentication or Lightweight Directory Access Protocol, you can do so while keeping these services highly available.\n",
    "\n",
    "Availability Zones also support storage by the use of managed disks and zone‑redundant storage. We will cover these features in more details in the module, Designing for Storage High Availability."
   ]
  },
  {
   "cell_type": "markdown",
   "metadata": {},
   "source": [
    "![](https://storage.googleapis.com/agungwahyudi-public-files/azure_high_availability-1-000016.png)"
   ]
  },
  {
   "cell_type": "markdown",
   "metadata": {},
   "source": [
    "Networking can also benefit from Availability Zones. Some of the services that are supported: standard load balancer and standard IP address. For example, in a scenario where you're working with Azure standard load balancers, you could optimize the end user's experience by distributing the resources across different zones.\n",
    "\n",
    "Also, ExpressRoute gateway and VPN gateway can use Availability Zones. This gives you the opportunity to design a highly available networking infrastructure for your organization.\n",
    "\n",
    "Applications are often relying on databases, for example, when working with SQL databases or Azure Cosmos DB. You can use Availability Zones to replicate your data to another location and gain the ability to failover to another region in case of an outage with a primary region. We will be working with Azure SQL Server application later on in this course. Those were just examples, and the list of services available is likely to grow as Azure is in continuous expansion. So, for that reason, whatever you are planning in your service in Azure, it is a good practice to visit the online documentation from the Microsoft website and validate if the service supports Availability Zones for a chosen region. By getting this information firsthand, will greatly help you in taking decisions when designing your applications for high availability."
   ]
  },
  {
   "cell_type": "markdown",
   "metadata": {
    "vscode": {
     "languageId": "plaintext"
    }
   },
   "source": [
    "# Module Summary"
   ]
  },
  {
   "cell_type": "markdown",
   "metadata": {},
   "source": [
    "![](https://storage.googleapis.com/agungwahyudi-public-files/azure_high_availability-1-000017.png)"
   ]
  },
  {
   "cell_type": "markdown",
   "metadata": {},
   "source": [
    "So let's go back on what we've learned in this module. We started with an overview of the Azure global infrastructure. We've seen it was composed of regions deployed in different countries around the globe. We also learned how two regions where did the same geographical location can be paired to provide HA to your resources. We then covered availability sets where virtual machines are isolated into logical groups. VMs are then distributed across multiple servers within a physical data center in a single region. We covered fault domains and update domains and realized how it can help keeping resources accessible during planned and unplanned maintenance. Next on our list, Availability Zones. We've learned that an Availability Zone is composed of one or more data centers independent from each other in terms of networking, power source, and so on. We completed this module by covering some of the key services in Azure that can be combined with Availabilty Zones, services such as virtual machines, managed disks, standard load balancers, and Azure SQL databases or Azure Cosmos DB. Now, let's hop to the next module on Designing for Azure Autoscale."
   ]
  }
 ],
 "metadata": {
  "language_info": {
   "name": "python"
  }
 },
 "nbformat": 4,
 "nbformat_minor": 2
}
